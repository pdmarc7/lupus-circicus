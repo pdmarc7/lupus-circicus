content_types = ['link', 'text', 'video', 'image']


daily_traffic_target = 100000


average_views_per_content_type = daily_traffic_target/len(content_types)


approximate_views_per_subreddit = 2000


average_submissions_per_content_type = average_views_per_content_type/approximate_views_per_subreddit


average_submissions_per_content_type





posts_per_all_content_type_platforms = round(daily_traffic_target/3)/2000


round(posts_per_all_content_type_platforms)
