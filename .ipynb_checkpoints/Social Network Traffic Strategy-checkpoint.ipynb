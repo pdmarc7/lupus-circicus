{
 "cells": [
  {
   "cell_type": "code",
   "execution_count": 23,
   "id": "4331f6c0-7a4f-42e1-9d0f-9be6cd8d9943",
   "metadata": {},
   "outputs": [],
   "source": [
    "content_types = ['link', 'text', 'video', 'image']"
   ]
  },
  {
   "cell_type": "code",
   "execution_count": 24,
   "id": "7652151a-49ba-44cb-b5c8-7d0c0985a0bf",
   "metadata": {},
   "outputs": [],
   "source": [
    "daily_traffic_target = 100000"
   ]
  },
  {
   "cell_type": "code",
   "execution_count": 25,
   "id": "cfeb3727-4358-4efc-af5b-5266668ddaa2",
   "metadata": {},
   "outputs": [],
   "source": [
    "average_views_per_content_type = daily_traffic_target/len(content_types)"
   ]
  },
  {
   "cell_type": "code",
   "execution_count": 26,
   "id": "0da1b6a0-c554-47e8-b51a-5af037a9c086",
   "metadata": {},
   "outputs": [],
   "source": [
    "approximate_views_per_subreddit = 2000"
   ]
  },
  {
   "cell_type": "code",
   "execution_count": 27,
   "id": "ae2625f6-df13-4b25-a79f-6acbf2c31347",
   "metadata": {},
   "outputs": [],
   "source": [
    "average_submissions_per_content_type = average_views_per_content_type/approximate_views_per_subreddit"
   ]
  },
  {
   "cell_type": "code",
   "execution_count": 28,
   "id": "ed678c0b-0c3c-4a43-9cf9-c226ee049bf8",
   "metadata": {
    "panel-layout": {
     "height": 27.150009155273438,
     "visible": true,
     "width": 100
    }
   },
   "outputs": [
    {
     "data": {
      "text/plain": [
       "12.5"
      ]
     },
     "execution_count": 28,
     "metadata": {},
     "output_type": "execute_result"
    }
   ],
   "source": [
    "average_submissions_per_content_type"
   ]
  },
  {
   "cell_type": "markdown",
   "id": "44f1c80c-4054-415b-8c64-79ebd53442b1",
   "metadata": {},
   "source": [
    "NB\n",
    "--\n",
    "Reddit is not the only social network/forum in existance and hence submission to subreddit must only apply to the largest possible subreddits that exist on the reddit platform itself.\n",
    "\n",
    "List of possibke platforms for content distribution (besides forums and publishing platforms)\n",
    "------------------------------------------------\n",
    "1. Reddit\n",
    "2. Twitter\n",
    "3. Facebook\n",
    "4. Telegram\n",
    "5. Tiktok\n",
    "6. Youtube"
   ]
  }
 ],
 "metadata": {
  "kernelspec": {
   "display_name": "Python 3 (ipykernel)",
   "language": "python",
   "name": "python3"
  },
  "language_info": {
   "codemirror_mode": {
    "name": "ipython",
    "version": 3
   },
   "file_extension": ".py",
   "mimetype": "text/x-python",
   "name": "python",
   "nbconvert_exporter": "python",
   "pygments_lexer": "ipython3",
   "version": "3.12.4"
  },
  "panel-cell-order": [
   "ed678c0b-0c3c-4a43-9cf9-c226ee049bf8"
  ]
 },
 "nbformat": 4,
 "nbformat_minor": 5
}
