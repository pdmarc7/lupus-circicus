{
 "cells": [
  {
   "cell_type": "code",
   "execution_count": 3,
   "id": "111174b4-a745-420e-ba1c-df02b83342be",
   "metadata": {},
   "outputs": [],
   "source": [
    "import os\n",
    "from bs4 import BeautifulSoup"
   ]
  },
  {
   "cell_type": "code",
   "execution_count": 4,
   "id": "92cfb424-527f-4c0d-8a2b-691118dc64ca",
   "metadata": {},
   "outputs": [],
   "source": [
    "import json\n",
    "\n",
    "def dump_json(data, filename):\n",
    "    with open(filename, 'w') as json_file:\n",
    "        json.dump(data, json_file, indent=4)\n",
    "\n",
    "\n",
    "def load_json(filename):\n",
    "    try:\n",
    "        if not os.path.exists(filename):\n",
    "            print(\"File not found!\")\n",
    "            \n",
    "        with open(filename, 'r') as json_file:\n",
    "            return json.load(json_file)\n",
    "    except Exception as e:\n",
    "        print(f\"Error loading JSON from {filename}: {e}\")\n",
    "        return None\n"
   ]
  },
  {
   "cell_type": "code",
   "execution_count": 5,
   "id": "60571eda-17a3-494a-83e3-c51de50e16fe",
   "metadata": {},
   "outputs": [],
   "source": [
    "def build_metadata(source_path):\n",
    "    try:\n",
    "        articles = os.listdir(source_path)\n",
    "    except FileNotFoundError:\n",
    "        os.mkdir(source_path)\n",
    "        articles = os.listdir(source_path)\n",
    "        \n",
    "    _metadata = []\n",
    "    \n",
    "    for article in articles:\n",
    "        if '.html' in article:\n",
    "            with open(os.path.join(source_path, article), 'r') as fp:\n",
    "                html_content = fp.read()\n",
    "        \n",
    "            soup = BeautifulSoup(html_content, 'html.parser')\n",
    "            \n",
    "            title = soup.find('meta', attrs={\"property\": \"og:title\"}).get('content')\n",
    "            description = soup.find('meta', attrs={\"property\": \"og:description\"}).get('content')\n",
    "            image = soup.find('meta', attrs={\"property\": \"og:image\"}).get('content')\n",
    "            date = soup.find('meta', attrs={\"property\": \"og:date\"}).get('content')\n",
    "    \n",
    "            metadata = {\n",
    "                \"title\": title,\n",
    "                \"description\": description,\n",
    "                \"top_image\": image,\n",
    "                \"date_published\": date\n",
    "            }\n",
    "    \n",
    "            _metadata.append(metadata)\n",
    "    return _metadata"
   ]
  },
  {
   "cell_type": "code",
   "execution_count": 6,
   "id": "5864d5d3-8fd5-4556-87b3-f4537847df6d",
   "metadata": {},
   "outputs": [
    {
     "ename": "FileNotFoundError",
     "evalue": "[Errno 2] No such file or directory: 'politics'",
     "output_type": "error",
     "traceback": [
      "\u001b[0;31m---------------------------------------------------------------------------\u001b[0m",
      "\u001b[0;31mFileNotFoundError\u001b[0m                         Traceback (most recent call last)",
      "Cell \u001b[0;32mIn[6], line 4\u001b[0m\n\u001b[1;32m      1\u001b[0m _metadate \u001b[38;5;241m=\u001b[39m [\n\u001b[1;32m      2\u001b[0m     {\n\u001b[1;32m      3\u001b[0m         \u001b[38;5;124m'\u001b[39m\u001b[38;5;124mtechnology\u001b[39m\u001b[38;5;124m'\u001b[39m: build_metadata(\u001b[38;5;124m'\u001b[39m\u001b[38;5;124mtechnology\u001b[39m\u001b[38;5;124m'\u001b[39m),\n\u001b[0;32m----> 4\u001b[0m         \u001b[38;5;124m'\u001b[39m\u001b[38;5;124mpolitics\u001b[39m\u001b[38;5;124m'\u001b[39m: build_metadata(\u001b[38;5;124m'\u001b[39m\u001b[38;5;124mpolitics\u001b[39m\u001b[38;5;124m'\u001b[39m),\n\u001b[1;32m      5\u001b[0m         \u001b[38;5;124m'\u001b[39m\u001b[38;5;124mclimate\u001b[39m\u001b[38;5;124m'\u001b[39m: build_metadata(\u001b[38;5;124m'\u001b[39m\u001b[38;5;124mclimate\u001b[39m\u001b[38;5;124m'\u001b[39m),\n\u001b[1;32m      6\u001b[0m     }\n\u001b[1;32m      7\u001b[0m ]\n",
      "Cell \u001b[0;32mIn[5], line 2\u001b[0m, in \u001b[0;36mbuild_metadata\u001b[0;34m(source_path)\u001b[0m\n\u001b[1;32m      1\u001b[0m \u001b[38;5;28;01mdef\u001b[39;00m \u001b[38;5;21mbuild_metadata\u001b[39m(source_path):\n\u001b[0;32m----> 2\u001b[0m     articles \u001b[38;5;241m=\u001b[39m os\u001b[38;5;241m.\u001b[39mlistdir(source_path)\n\u001b[1;32m      3\u001b[0m     _metadata \u001b[38;5;241m=\u001b[39m []\n\u001b[1;32m      5\u001b[0m     \u001b[38;5;28;01mfor\u001b[39;00m article \u001b[38;5;129;01min\u001b[39;00m articles:\n",
      "\u001b[0;31mFileNotFoundError\u001b[0m: [Errno 2] No such file or directory: 'politics'"
     ]
    }
   ],
   "source": [
    "_metadate = [\n",
    "    {\n",
    "        'technology': build_metadata('technology'),\n",
    "        'politics': build_metadata('politics'),\n",
    "        'climate': build_metadata('climate'),\n",
    "    }\n",
    "]"
   ]
  },
  {
   "cell_type": "code",
   "execution_count": 27,
   "id": "a9c325e1-156f-4b40-8b96-35b31d93455e",
   "metadata": {},
   "outputs": [],
   "source": [
    "dump_json(_metadata, 'site_index.json')"
   ]
  },
  {
   "cell_type": "code",
   "execution_count": null,
   "id": "e3a7d98c-864c-47da-98a7-b03575de6eff",
   "metadata": {},
   "outputs": [],
   "source": []
  }
 ],
 "metadata": {
  "kernelspec": {
   "display_name": "Python 3 (ipykernel)",
   "language": "python",
   "name": "python3"
  },
  "language_info": {
   "codemirror_mode": {
    "name": "ipython",
    "version": 3
   },
   "file_extension": ".py",
   "mimetype": "text/x-python",
   "name": "python",
   "nbconvert_exporter": "python",
   "pygments_lexer": "ipython3",
   "version": "3.12.4"
  }
 },
 "nbformat": 4,
 "nbformat_minor": 5
}
